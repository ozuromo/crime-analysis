{
 "cells": [
  {
   "cell_type": "code",
   "execution_count": 2,
   "metadata": {},
   "outputs": [],
   "source": [
    "import numpy as np\n",
    "import pandas as pd\n",
    "import geopandas as gpd\n",
    "import matplotlib.pyplot as plt\n",
    "import glob"
   ]
  },
  {
   "cell_type": "markdown",
   "metadata": {},
   "source": [
    "### Import and Merge Census Data"
   ]
  },
  {
   "cell_type": "code",
   "execution_count": 9,
   "metadata": {},
   "outputs": [],
   "source": [
    "def merge_census_dfs(path: str) -> pd.DataFrame:\n",
    "    \"\"\"\n",
    "    Merge multiple census dataframes into a single dataframe based on the given path.\n",
    "    Args:\n",
    "        path (str): The path where the census excel files are located.\n",
    "    Returns:\n",
    "        pd.DataFrame: The merged dataframe containing the selected features from all census files.\n",
    "    \"\"\"\n",
    "    excel_files = glob.glob(f'{path}/*.xls')\n",
    "    dfs = []\n",
    "    for file in excel_files:\n",
    "        suffix = file.split('\\\\')[-1].split('.')[0].split('_')[0].upper()\n",
    "        print(suffix)\n",
    " \n",
    "        df = pd.read_excel(file, decimal=',', na_values='X', engine='calamine')\n",
    "        \n",
    "        cols_to_keep = ['Cod_setor'] + [col for col in df.columns if col.startswith('V')]\n",
    "        df = df[cols_to_keep]\n",
    "\n",
    "        df = df.rename(columns={col: f'{col}_{suffix}' for col in df.columns if col != 'Cod_setor'})\n",
    "        dfs.append(df)\n",
    "\n",
    "    df_merged = dfs[0]\n",
    "    for df in dfs[1:]:\n",
    "        df_merged = df_merged.merge(df, on='Cod_setor', how='outer')\n",
    "\n",
    "    return df_merged\n"
   ]
  },
  {
   "cell_type": "code",
   "execution_count": 11,
   "metadata": {},
   "outputs": [
    {
     "name": "stdout",
     "output_type": "stream",
     "text": [
      "BASICO\n",
      "DOMICILIO01\n",
      "DOMICILIO02\n",
      "DOMICILIORENDA\n",
      "ENTORNO01\n",
      "ENTORNO02\n",
      "ENTORNO03\n",
      "ENTORNO04\n",
      "ENTORNO05\n",
      "PESSOA01\n",
      "PESSOA02\n",
      "PESSOA03\n",
      "PESSOA04\n",
      "PESSOA05\n",
      "PESSOA06\n",
      "PESSOA07\n",
      "PESSOA08\n",
      "PESSOA09\n",
      "PESSOA10\n",
      "PESSOA11\n",
      "PESSOA12\n",
      "PESSOA13\n",
      "PESSOARENDA\n",
      "RESPONSAVEL01\n",
      "RESPONSAVEL02\n",
      "RESPONSAVELRENDA\n"
     ]
    },
    {
     "data": {
      "text/plain": [
       "(18363, 4037)"
      ]
     },
     "execution_count": 11,
     "metadata": {},
     "output_type": "execute_result"
    }
   ],
   "source": [
    "census_path = '../CENSO-2010/EXCEL/'\n",
    "census = merge_census_dfs(census_path)\n",
    "census.shape"
   ]
  },
  {
   "cell_type": "code",
   "execution_count": 12,
   "metadata": {},
   "outputs": [],
   "source": [
    "census = census.rename(columns={'Cod_setor': 'CD_GEOCODI'})\n",
    "census['CD_GEOCODI'] = census['CD_GEOCODI'].astype(str)"
   ]
  },
  {
   "cell_type": "code",
   "execution_count": 13,
   "metadata": {},
   "outputs": [],
   "source": [
    "cols_to_keep = [\n",
    "    'CD_GEOCODI', 'V001_ENTORNO01', 'V002_ENTORNO01', 'V003_ENTORNO01',\n",
    "    'V004_ENTORNO01', 'V001_DOMICILIORENDA', 'V002_DOMICILIORENDA',\n",
    "    'V003_DOMICILIORENDA', 'V004_DOMICILIORENDA', 'V001_BASICO',\n",
    "    'V002_BASICO', 'V003_BASICO', 'V004_BASICO', 'V005_BASICO',\n",
    "    'V006_BASICO', 'V007_BASICO', 'V008_BASICO', 'V009_BASICO',\n",
    "    'V010_BASICO', 'V011_BASICO', 'V012_BASICO', 'V001_DOMICILIO02',\n",
    "    'V002_DOMICILIO02', 'V001_DOMICILIO01', 'V002_DOMICILIO01',\n",
    "    'V001_PESSOA01', 'V086_PESSOA02', 'V001_PESSOA03', 'V002_PESSOA03','V003_PESSOA03',\n",
    "    'V004_PESSOA03', 'V005_PESSOA03', 'V006_PESSOA03', 'V001_PESSOA12',\n",
    "    'V001_PESSOA11', 'V001_RESPONSAVEL01', 'V001_RESPONSAVEL02',\n",
    "]"
   ]
  },
  {
   "cell_type": "code",
   "execution_count": 14,
   "metadata": {},
   "outputs": [
    {
     "data": {
      "text/plain": [
       "(18363, 37)"
      ]
     },
     "execution_count": 14,
     "metadata": {},
     "output_type": "execute_result"
    }
   ],
   "source": [
    "census = census[cols_to_keep]\n",
    "census.shape"
   ]
  },
  {
   "cell_type": "code",
   "execution_count": 15,
   "metadata": {},
   "outputs": [
    {
     "name": "stdout",
     "output_type": "stream",
     "text": [
      "<class 'pandas.core.frame.DataFrame'>\n",
      "RangeIndex: 18363 entries, 0 to 18362\n",
      "Data columns (total 37 columns):\n",
      " #   Column               Non-Null Count  Dtype  \n",
      "---  ------               --------------  -----  \n",
      " 0   CD_GEOCODI           18363 non-null  object \n",
      " 1   V001_ENTORNO01       18206 non-null  float64\n",
      " 2   V002_ENTORNO01       18206 non-null  float64\n",
      " 3   V003_ENTORNO01       18206 non-null  float64\n",
      " 4   V004_ENTORNO01       18206 non-null  float64\n",
      " 5   V001_DOMICILIORENDA  18206 non-null  float64\n",
      " 6   V002_DOMICILIORENDA  18206 non-null  float64\n",
      " 7   V003_DOMICILIORENDA  18206 non-null  float64\n",
      " 8   V004_DOMICILIORENDA  18206 non-null  float64\n",
      " 9   V001_BASICO          18333 non-null  float64\n",
      " 10  V002_BASICO          18333 non-null  float64\n",
      " 11  V003_BASICO          18333 non-null  float64\n",
      " 12  V004_BASICO          18333 non-null  float64\n",
      " 13  V005_BASICO          18333 non-null  float64\n",
      " 14  V006_BASICO          18333 non-null  float64\n",
      " 15  V007_BASICO          18324 non-null  float64\n",
      " 16  V008_BASICO          18324 non-null  float64\n",
      " 17  V009_BASICO          18363 non-null  float64\n",
      " 18  V010_BASICO          18363 non-null  float64\n",
      " 19  V011_BASICO          18352 non-null  float64\n",
      " 20  V012_BASICO          18352 non-null  float64\n",
      " 21  V001_DOMICILIO02     18363 non-null  int64  \n",
      " 22  V002_DOMICILIO02     18206 non-null  float64\n",
      " 23  V001_DOMICILIO01     18363 non-null  int64  \n",
      " 24  V002_DOMICILIO01     18363 non-null  int64  \n",
      " 25  V001_PESSOA01        18363 non-null  int64  \n",
      " 26  V086_PESSOA02        18206 non-null  float64\n",
      " 27  V001_PESSOA03        18363 non-null  int64  \n",
      " 28  V002_PESSOA03        18206 non-null  float64\n",
      " 29  V003_PESSOA03        18206 non-null  float64\n",
      " 30  V004_PESSOA03        18206 non-null  float64\n",
      " 31  V005_PESSOA03        18206 non-null  float64\n",
      " 32  V006_PESSOA03        18206 non-null  float64\n",
      " 33  V001_PESSOA12        18363 non-null  int64  \n",
      " 34  V001_PESSOA11        18363 non-null  int64  \n",
      " 35  V001_RESPONSAVEL01   18363 non-null  int64  \n",
      " 36  V001_RESPONSAVEL02   18363 non-null  int64  \n",
      "dtypes: float64(27), int64(9), object(1)\n",
      "memory usage: 5.2+ MB\n"
     ]
    }
   ],
   "source": [
    "census.info()"
   ]
  },
  {
   "cell_type": "code",
   "execution_count": 16,
   "metadata": {},
   "outputs": [
    {
     "name": "stdout",
     "output_type": "stream",
     "text": [
      "<class 'pandas.core.frame.DataFrame'>\n",
      "RangeIndex: 18363 entries, 0 to 18362\n",
      "Data columns (total 37 columns):\n",
      " #   Column               Non-Null Count  Dtype  \n",
      "---  ------               --------------  -----  \n",
      " 0   CD_GEOCODI           18363 non-null  object \n",
      " 1   V001_ENTORNO01       18206 non-null  float64\n",
      " 2   V002_ENTORNO01       18206 non-null  float64\n",
      " 3   V003_ENTORNO01       18206 non-null  float64\n",
      " 4   V004_ENTORNO01       18206 non-null  float64\n",
      " 5   V001_DOMICILIORENDA  18206 non-null  float64\n",
      " 6   V002_DOMICILIORENDA  18206 non-null  float64\n",
      " 7   V003_DOMICILIORENDA  18206 non-null  float64\n",
      " 8   V004_DOMICILIORENDA  18206 non-null  float64\n",
      " 9   V001_BASICO          18333 non-null  float64\n",
      " 10  V002_BASICO          18333 non-null  float64\n",
      " 11  V003_BASICO          18333 non-null  float64\n",
      " 12  V004_BASICO          18333 non-null  float64\n",
      " 13  V005_BASICO          18333 non-null  float64\n",
      " 14  V006_BASICO          18333 non-null  float64\n",
      " 15  V007_BASICO          18324 non-null  float64\n",
      " 16  V008_BASICO          18324 non-null  float64\n",
      " 17  V009_BASICO          18363 non-null  float64\n",
      " 18  V010_BASICO          18363 non-null  float64\n",
      " 19  V011_BASICO          18352 non-null  float64\n",
      " 20  V012_BASICO          18352 non-null  float64\n",
      " 21  V001_DOMICILIO02     18363 non-null  float64\n",
      " 22  V002_DOMICILIO02     18206 non-null  float64\n",
      " 23  V001_DOMICILIO01     18363 non-null  float64\n",
      " 24  V002_DOMICILIO01     18363 non-null  float64\n",
      " 25  V001_PESSOA01        18363 non-null  float64\n",
      " 26  V086_PESSOA02        18206 non-null  float64\n",
      " 27  V001_PESSOA03        18363 non-null  float64\n",
      " 28  V002_PESSOA03        18206 non-null  float64\n",
      " 29  V003_PESSOA03        18206 non-null  float64\n",
      " 30  V004_PESSOA03        18206 non-null  float64\n",
      " 31  V005_PESSOA03        18206 non-null  float64\n",
      " 32  V006_PESSOA03        18206 non-null  float64\n",
      " 33  V001_PESSOA12        18363 non-null  float64\n",
      " 34  V001_PESSOA11        18363 non-null  float64\n",
      " 35  V001_RESPONSAVEL01   18363 non-null  float64\n",
      " 36  V001_RESPONSAVEL02   18363 non-null  float64\n",
      "dtypes: float64(36), object(1)\n",
      "memory usage: 5.2+ MB\n"
     ]
    }
   ],
   "source": [
    "# transform int64 columns to float64\n",
    "\n",
    "int64_cols = census.select_dtypes(include=['int64']).columns\n",
    "census[int64_cols] = census[int64_cols].astype('float64')\n",
    "census.info()"
   ]
  },
  {
   "cell_type": "markdown",
   "metadata": {},
   "source": [
    "### Save to File"
   ]
  },
  {
   "cell_type": "code",
   "execution_count": 17,
   "metadata": {},
   "outputs": [],
   "source": [
    "census.to_parquet('../GENERATED-DATA/census.parquet', index=False)"
   ]
  }
 ],
 "metadata": {
  "kernelspec": {
   "display_name": "base",
   "language": "python",
   "name": "python3"
  },
  "language_info": {
   "codemirror_mode": {
    "name": "ipython",
    "version": 3
   },
   "file_extension": ".py",
   "mimetype": "text/x-python",
   "name": "python",
   "nbconvert_exporter": "python",
   "pygments_lexer": "ipython3",
   "version": "3.11.10"
  }
 },
 "nbformat": 4,
 "nbformat_minor": 2
}
