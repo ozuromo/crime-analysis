{
 "cells": [
  {
   "cell_type": "markdown",
   "metadata": {},
   "source": [
    "### Imports & Helper Funcs"
   ]
  },
  {
   "cell_type": "code",
   "execution_count": 1,
   "metadata": {},
   "outputs": [],
   "source": [
    "import pandas as pd\n",
    "import geopandas as gpd\n",
    "import numpy as np\n",
    "\n",
    "import matplotlib.pyplot as plt\n",
    "import seaborn as sns\n",
    "\n",
    "sns.set_theme(style='ticks')\n",
    "sns.set_context('paper')"
   ]
  },
  {
   "cell_type": "code",
   "execution_count": 2,
   "metadata": {},
   "outputs": [],
   "source": [
    "def clean_data(data: pd.DataFrame) -> pd.DataFrame:\n",
    "    \"\"\"\n",
    "    Cleans the input DataFrame by removing columns with more than 50% missing values \n",
    "    and rows with any missing values.\n",
    "\n",
    "    Parameters\n",
    "    -\n",
    "    data (pd.DataFrame): The input DataFrame to be cleaned.\n",
    "\n",
    "    Returns\n",
    "    -\n",
    "    pd.DataFrame: The cleaned DataFrame with no missing values.\n",
    "    \n",
    "    Prints:\n",
    "    - The original shape of the DataFrame.\n",
    "    - The number of missing values in the original DataFrame.\n",
    "    - The shape of the DataFrame after cleaning.\n",
    "    \"\"\"\n",
    "    print(f'Original Shape: {data.shape}')\n",
    "    print(f'Number of missing values: {data.isna().sum().sum()}')\n",
    "\n",
    "    if data.notna().all().all():\n",
    "        return data\n",
    "\n",
    "    data = data.dropna(axis=1, thresh=len(data)*.5)\n",
    "    data = data.dropna()\n",
    "\n",
    "    print(f'Cleaned Shape: {data.shape}')\n",
    "    return data"
   ]
  },
  {
   "cell_type": "code",
   "execution_count": 3,
   "metadata": {},
   "outputs": [],
   "source": [
    "def aggregate_gdf_data(\n",
    "    left_gdf: gpd.GeoDataFrame,\n",
    "    right_gdf: gpd.GeoDataFrame,\n",
    "    target: str,\n",
    "    predicate: str,\n",
    "    cols_to_sum: list,\n",
    "    cols_to_average: list\n",
    ") -> gpd.GeoDataFrame:\n",
    "    \"\"\"\n",
    "    Aggregates data from two GeoDataFrames based on spatial join and specified columns.\n",
    "\n",
    "    Parameters\n",
    "    -\n",
    "    left_gdf (gpd.GeoDataFrame): The left GeoDataFrame to join.\n",
    "    right_gdf (gpd.GeoDataFrame): The right GeoDataFrame to join.\n",
    "    target (str): The target column name to group by.\n",
    "    predicate (str): The spatial predicate to use for the join (e.g., 'intersects', 'within').\n",
    "    cols_to_sum (list): List of column names to sum during aggregation.\n",
    "    cols_to_average (list): List of column names to average during aggregation.\n",
    "\n",
    "    Returns\n",
    "    -\n",
    "    gpd.GeoDataFrame: A GeoDataFrame with aggregated data.\n",
    "    \"\"\"\n",
    "    assert left_gdf.notna().all().all(), 'Left GeoDataFrame contains missing values'\n",
    "    assert right_gdf.notna().all().all(), 'Right GeoDataFrame contains missing values'\n",
    "    assert left_gdf.crs == right_gdf.crs, 'CRS mismatch'\n",
    "\n",
    "    agg_dict = {col: 'sum' for col in cols_to_sum}\n",
    "    agg_dict.update({col: 'mean' for col in cols_to_average})\n",
    "\n",
    "    gdf = left_gdf.sjoin(right_gdf, how='inner', predicate=predicate)\n",
    "    gdf = gdf.groupby(target).agg(agg_dict)\n",
    "    gdf = left_gdf.merge(gdf, left_on=target, right_index=True, how='left')\n",
    "    \n",
    "    return gdf   "
   ]
  },
  {
   "cell_type": "code",
   "execution_count": 4,
   "metadata": {},
   "outputs": [],
   "source": [
    "def encode_categoricals(df: pd.DataFrame) -> pd.DataFrame:\n",
    "    \"\"\"\n",
    "    Encodes categorical columns in a DataFrame.\n",
    "    This function processes all categorical columns in the given DataFrame.\n",
    "    For ordered categorical columns, it replaces them with their respective\n",
    "    category codes. For unordered categorical columns, it creates dummy/indicator\n",
    "    variables and drops the first category to avoid multicollinearity.\n",
    "    \n",
    "    Parameters\n",
    "    -\n",
    "    df (pandas.DataFrame): The input DataFrame containing categorical columns.\n",
    "    \n",
    "    Returns\n",
    "    -\n",
    "    pandas.DataFrame: The DataFrame with encoded categorical columns.\n",
    "    \"\"\"\n",
    "    cat_cols = df.select_dtypes(include=['category']).columns\n",
    "\n",
    "    for col in cat_cols:\n",
    "        if df[col].cat.ordered:\n",
    "            df[col] = df[col].cat.codes\n",
    "        else:\n",
    "            df = pd.get_dummies(df, columns=[col], drop_first=True)\n",
    "            \n",
    "    return df"
   ]
  },
  {
   "cell_type": "markdown",
   "metadata": {},
   "source": [
    "### Import and Clean Data"
   ]
  },
  {
   "cell_type": "markdown",
   "metadata": {},
   "source": [
    "#### Zones"
   ]
  },
  {
   "cell_type": "code",
   "execution_count": 5,
   "metadata": {},
   "outputs": [
    {
     "data": {
      "text/html": [
       "<div>\n",
       "<style scoped>\n",
       "    .dataframe tbody tr th:only-of-type {\n",
       "        vertical-align: middle;\n",
       "    }\n",
       "\n",
       "    .dataframe tbody tr th {\n",
       "        vertical-align: top;\n",
       "    }\n",
       "\n",
       "    .dataframe thead th {\n",
       "        text-align: right;\n",
       "    }\n",
       "</style>\n",
       "<table border=\"1\" class=\"dataframe\">\n",
       "  <thead>\n",
       "    <tr style=\"text-align: right;\">\n",
       "      <th></th>\n",
       "      <th>NumeroZona</th>\n",
       "      <th>NomeZona</th>\n",
       "      <th>NumeroMuni</th>\n",
       "      <th>NomeMunici</th>\n",
       "      <th>NumDistrit</th>\n",
       "      <th>NomeDistri</th>\n",
       "      <th>Area_ha_2</th>\n",
       "      <th>geometry</th>\n",
       "    </tr>\n",
       "  </thead>\n",
       "  <tbody>\n",
       "    <tr>\n",
       "      <th>0</th>\n",
       "      <td>1</td>\n",
       "      <td>Sé</td>\n",
       "      <td>36</td>\n",
       "      <td>São Paulo</td>\n",
       "      <td>80</td>\n",
       "      <td>Sé</td>\n",
       "      <td>57.10</td>\n",
       "      <td>POLYGON Z ((333739.415 7394619.838 0, 333792.4...</td>\n",
       "    </tr>\n",
       "    <tr>\n",
       "      <th>1</th>\n",
       "      <td>2</td>\n",
       "      <td>Parque Dom Pedro</td>\n",
       "      <td>36</td>\n",
       "      <td>São Paulo</td>\n",
       "      <td>80</td>\n",
       "      <td>Sé</td>\n",
       "      <td>113.64</td>\n",
       "      <td>POLYGON Z ((333106.146 7395425.48 0, 333120.09...</td>\n",
       "    </tr>\n",
       "    <tr>\n",
       "      <th>2</th>\n",
       "      <td>3</td>\n",
       "      <td>Praça João Mendes</td>\n",
       "      <td>36</td>\n",
       "      <td>São Paulo</td>\n",
       "      <td>80</td>\n",
       "      <td>Sé</td>\n",
       "      <td>47.75</td>\n",
       "      <td>POLYGON Z ((333353.211 7393933.156 0, 333238.0...</td>\n",
       "    </tr>\n",
       "    <tr>\n",
       "      <th>3</th>\n",
       "      <td>4</td>\n",
       "      <td>Ladeira da Memória</td>\n",
       "      <td>36</td>\n",
       "      <td>São Paulo</td>\n",
       "      <td>67</td>\n",
       "      <td>República</td>\n",
       "      <td>75.11</td>\n",
       "      <td>POLYGON Z ((332742.619 7394795.328 0, 332742.5...</td>\n",
       "    </tr>\n",
       "    <tr>\n",
       "      <th>4</th>\n",
       "      <td>5</td>\n",
       "      <td>República</td>\n",
       "      <td>36</td>\n",
       "      <td>São Paulo</td>\n",
       "      <td>67</td>\n",
       "      <td>República</td>\n",
       "      <td>74.95</td>\n",
       "      <td>POLYGON Z ((332983.962 7395262.578 0, 333004.2...</td>\n",
       "    </tr>\n",
       "  </tbody>\n",
       "</table>\n",
       "</div>"
      ],
      "text/plain": [
       "   NumeroZona            NomeZona  NumeroMuni NomeMunici  NumDistrit  \\\n",
       "0           1                  Sé          36  São Paulo          80   \n",
       "1           2    Parque Dom Pedro          36  São Paulo          80   \n",
       "2           3   Praça João Mendes          36  São Paulo          80   \n",
       "3           4  Ladeira da Memória          36  São Paulo          67   \n",
       "4           5           República          36  São Paulo          67   \n",
       "\n",
       "  NomeDistri  Area_ha_2                                           geometry  \n",
       "0         Sé      57.10  POLYGON Z ((333739.415 7394619.838 0, 333792.4...  \n",
       "1         Sé     113.64  POLYGON Z ((333106.146 7395425.48 0, 333120.09...  \n",
       "2         Sé      47.75  POLYGON Z ((333353.211 7393933.156 0, 333238.0...  \n",
       "3  República      75.11  POLYGON Z ((332742.619 7394795.328 0, 332742.5...  \n",
       "4  República      74.95  POLYGON Z ((332983.962 7395262.578 0, 333004.2...  "
      ]
     },
     "execution_count": 5,
     "metadata": {},
     "output_type": "execute_result"
    }
   ],
   "source": [
    "gdf_zones = gpd.read_file('../OD-2017/od_zonas.zip', layer='Zonas_2017_region')\n",
    "gdf_zones.head()"
   ]
  },
  {
   "cell_type": "code",
   "execution_count": 6,
   "metadata": {},
   "outputs": [
    {
     "data": {
      "text/plain": [
       "<Projected CRS: EPSG:22523>\n",
       "Name: Corrego Alegre 1970-72 / UTM zone 23S\n",
       "Axis Info [cartesian]:\n",
       "- E[east]: Easting (metre)\n",
       "- N[north]: Northing (metre)\n",
       "Area of Use:\n",
       "- name: Brazil - onshore between 48°W and 42°W and south of 15°S.\n",
       "- bounds: (-48.0, -25.29, -42.0, -15.0)\n",
       "Coordinate Operation:\n",
       "- name: UTM zone 23S\n",
       "- method: Transverse Mercator\n",
       "Datum: Corrego Alegre 1970-72\n",
       "- Ellipsoid: International 1924\n",
       "- Prime Meridian: Greenwich"
      ]
     },
     "execution_count": 6,
     "metadata": {},
     "output_type": "execute_result"
    }
   ],
   "source": [
    "gdf_zones.crs"
   ]
  },
  {
   "cell_type": "code",
   "execution_count": 7,
   "metadata": {},
   "outputs": [
    {
     "name": "stdout",
     "output_type": "stream",
     "text": [
      "<class 'geopandas.geodataframe.GeoDataFrame'>\n",
      "RangeIndex: 517 entries, 0 to 516\n",
      "Data columns (total 8 columns):\n",
      " #   Column      Non-Null Count  Dtype   \n",
      "---  ------      --------------  -----   \n",
      " 0   NumeroZona  517 non-null    int64   \n",
      " 1   NomeZona    517 non-null    object  \n",
      " 2   NumeroMuni  517 non-null    int64   \n",
      " 3   NomeMunici  517 non-null    object  \n",
      " 4   NumDistrit  517 non-null    int64   \n",
      " 5   NomeDistri  517 non-null    object  \n",
      " 6   Area_ha_2   517 non-null    float64 \n",
      " 7   geometry    517 non-null    geometry\n",
      "dtypes: float64(1), geometry(1), int64(3), object(3)\n",
      "memory usage: 32.4+ KB\n"
     ]
    }
   ],
   "source": [
    "gdf_zones.info()"
   ]
  },
  {
   "cell_type": "code",
   "execution_count": 8,
   "metadata": {},
   "outputs": [
    {
     "name": "stdout",
     "output_type": "stream",
     "text": [
      "<class 'geopandas.geodataframe.GeoDataFrame'>\n",
      "RangeIndex: 517 entries, 0 to 516\n",
      "Data columns (total 8 columns):\n",
      " #   Column      Non-Null Count  Dtype   \n",
      "---  ------      --------------  -----   \n",
      " 0   NumeroZona  517 non-null    object  \n",
      " 1   NomeZona    517 non-null    object  \n",
      " 2   NumeroMuni  517 non-null    object  \n",
      " 3   NomeMunici  517 non-null    object  \n",
      " 4   NumDistrit  517 non-null    object  \n",
      " 5   NomeDistri  517 non-null    object  \n",
      " 6   Area_ha_2   517 non-null    float64 \n",
      " 7   geometry    517 non-null    geometry\n",
      "dtypes: float64(1), geometry(1), object(6)\n",
      "memory usage: 32.4+ KB\n"
     ]
    }
   ],
   "source": [
    "# change gdf_zones int64 columns to object\n",
    "\n",
    "gdf_zones = gdf_zones.astype({'NumeroZona': 'object', 'NumeroMuni': 'object', 'NumDistrit': 'object'})\n",
    "gdf_zones.info()"
   ]
  },
  {
   "cell_type": "code",
   "execution_count": 9,
   "metadata": {},
   "outputs": [
    {
     "data": {
      "text/plain": [
       "<Axes: >"
      ]
     },
     "execution_count": 9,
     "metadata": {},
     "output_type": "execute_result"
    },
    {
     "data": {
      "image/png": "[encoded data removed]",
      "text/plain": [
       "<Figure size 640x480 with 1 Axes>"
      ]
     },
     "metadata": {},
     "output_type": "display_data"
    }
   ],
   "source": [
    "# filter only zones in the city of São Paulo\n",
    "\n",
    "gdf_zones = gdf_zones[gdf_zones['NomeMunici'] == 'São Paulo']\n",
    "gdf_zones.plot()"
   ]
  },
  {
   "cell_type": "code",
   "execution_count": 10,
   "metadata": {},
   "outputs": [
    {
     "name": "stdout",
     "output_type": "stream",
     "text": [
      "Original Shape: (342, 8)\n",
      "Number of missing values: 0\n"
     ]
    }
   ],
   "source": [
    "gdf_zones = clean_data(gdf_zones)"
   ]
  },
  {
   "cell_type": "code",
   "execution_count": 11,
   "metadata": {},
   "outputs": [],
   "source": [
    "sp_zones = gdf_zones[\"NumeroZona\"].to_list()"
   ]
  },
  {
   "cell_type": "markdown",
   "metadata": {},
   "source": [
    "#### Census IBGE 2010"
   ]
  },
  {
   "cell_type": "code",
   "execution_count": 12,
   "metadata": {},
   "outputs": [
    {
     "data": {
      "text/plain": [
       "(Index(['CD_GEOCODI', 'V001_ENTORNO01', 'V002_ENTORNO01', 'V003_ENTORNO01',\n",
       "        'V004_ENTORNO01', 'V001_DOMICILIORENDA', 'V002_DOMICILIORENDA',\n",
       "        'V003_DOMICILIORENDA', 'V004_DOMICILIORENDA', 'V001_BASICO',\n",
       "        'V002_BASICO', 'V003_BASICO', 'V004_BASICO', 'V005_BASICO',\n",
       "        'V006_BASICO', 'V007_BASICO', 'V008_BASICO', 'V009_BASICO',\n",
       "        'V010_BASICO', 'V011_BASICO', 'V012_BASICO', 'V001_DOMICILIO02',\n",
       "        'V002_DOMICILIO02', 'V001_DOMICILIO01', 'V002_DOMICILIO01',\n",
       "        'V001_PESSOA01', 'V086_PESSOA02', 'V001_PESSOA03', 'V002_PESSOA03',\n",
       "        'V003_PESSOA03', 'V004_PESSOA03', 'V005_PESSOA03', 'V006_PESSOA03',\n",
       "        'V001_PESSOA12', 'V001_PESSOA11', 'V001_RESPONSAVEL01',\n",
       "        'V001_RESPONSAVEL02'],\n",
       "       dtype='object'),\n",
       " (18363, 37))"
      ]
     },
     "execution_count": 12,
     "metadata": {},
     "output_type": "execute_result"
    }
   ],
   "source": [
    "df_census = pd.read_parquet('../GENERATED-DATA/census.parquet')\n",
    "df_census.columns, df_census.shape"
   ]
  },
  {
   "cell_type": "code",
   "execution_count": 13,
   "metadata": {},
   "outputs": [
    {
     "name": "stdout",
     "output_type": "stream",
     "text": [
      "<class 'pandas.core.frame.DataFrame'>\n",
      "RangeIndex: 18363 entries, 0 to 18362\n",
      "Data columns (total 37 columns):\n",
      " #   Column               Non-Null Count  Dtype  \n",
      "---  ------               --------------  -----  \n",
      " 0   CD_GEOCODI           18363 non-null  object \n",
      " 1   V001_ENTORNO01       18206 non-null  float64\n",
      " 2   V002_ENTORNO01       18206 non-null  float64\n",
      " 3   V003_ENTORNO01       18206 non-null  float64\n",
      " 4   V004_ENTORNO01       18206 non-null  float64\n",
      " 5   V001_DOMICILIORENDA  18206 non-null  float64\n",
      " 6   V002_DOMICILIORENDA  18206 non-null  float64\n",
      " 7   V003_DOMICILIORENDA  18206 non-null  float64\n",
      " 8   V004_DOMICILIORENDA  18206 non-null  float64\n",
      " 9   V001_BASICO          18333 non-null  float64\n",
      " 10  V002_BASICO          18333 non-null  float64\n",
      " 11  V003_BASICO          18333 non-null  float64\n",
      " 12  V004_BASICO          18333 non-null  float64\n",
      " 13  V005_BASICO          18333 non-null  float64\n",
      " 14  V006_BASICO          18333 non-null  float64\n",
      " 15  V007_BASICO          18324 non-null  float64\n",
      " 16  V008_BASICO          18324 non-null  float64\n",
      " 17  V009_BASICO          18363 non-null  float64\n",
      " 18  V010_BASICO          18363 non-null  float64\n",
      " 19  V011_BASICO          18352 non-null  float64\n",
      " 20  V012_BASICO          18352 non-null  float64\n",
      " 21  V001_DOMICILIO02     18363 non-null  float64\n",
      " 22  V002_DOMICILIO02     18206 non-null  float64\n",
      " 23  V001_DOMICILIO01     18363 non-null  float64\n",
      " 24  V002_DOMICILIO01     18363 non-null  float64\n",
      " 25  V001_PESSOA01        18363 non-null  float64\n",
      " 26  V086_PESSOA02        18206 non-null  float64\n",
      " 27  V001_PESSOA03        18363 non-null  float64\n",
      " 28  V002_PESSOA03        18206 non-null  float64\n",
      " 29  V003_PESSOA03        18206 non-null  float64\n",
      " 30  V004_PESSOA03        18206 non-null  float64\n",
      " 31  V005_PESSOA03        18206 non-null  float64\n",
      " 32  V006_PESSOA03        18206 non-null  float64\n",
      " 33  V001_PESSOA12        18363 non-null  float64\n",
      " 34  V001_PESSOA11        18363 non-null  float64\n",
      " 35  V001_RESPONSAVEL01   18363 non-null  float64\n",
      " 36  V001_RESPONSAVEL02   18363 non-null  float64\n",
      "dtypes: float64(36), object(1)\n",
      "memory usage: 5.2+ MB\n"
     ]
    }
   ],
   "source": [
    "df_census.info()"
   ]
  },
  {
   "cell_type": "code",
   "execution_count": 14,
   "metadata": {},
   "outputs": [
    {
     "name": "stdout",
     "output_type": "stream",
     "text": [
      "<class 'pandas.core.frame.DataFrame'>\n",
      "RangeIndex: 18363 entries, 0 to 18362\n",
      "Data columns (total 37 columns):\n",
      " #   Column               Non-Null Count  Dtype  \n",
      "---  ------               --------------  -----  \n",
      " 0   CD_GEOCODI           18363 non-null  object \n",
      " 1   V001_ENTORNO01       18206 non-null  float64\n",
      " 2   V002_ENTORNO01       18206 non-null  float64\n",
      " 3   V003_ENTORNO01       18206 non-null  float64\n",
      " 4   V004_ENTORNO01       18206 non-null  float64\n",
      " 5   V001_DOMICILIORENDA  18206 non-null  float64\n",
      " 6   V002_DOMICILIORENDA  18206 non-null  float64\n",
      " 7   V003_DOMICILIORENDA  18206 non-null  float64\n",
      " 8   V004_DOMICILIORENDA  18206 non-null  float64\n",
      " 9   V001_BASICO          18333 non-null  float64\n",
      " 10  V002_BASICO          18333 non-null  float64\n",
      " 11  V003_BASICO          18333 non-null  float64\n",
      " 12  V004_BASICO          18333 non-null  float64\n",
      " 13  V005_BASICO          18333 non-null  float64\n",
      " 14  V006_BASICO          18333 non-null  float64\n",
      " 15  V007_BASICO          18324 non-null  float64\n",
      " 16  V008_BASICO          18324 non-null  float64\n",
      " 17  V009_BASICO          18363 non-null  float64\n",
      " 18  V010_BASICO          18363 non-null  float64\n",
      " 19  V011_BASICO          18352 non-null  float64\n",
      " 20  V012_BASICO          18352 non-null  float64\n",
      " 21  V001_DOMICILIO02     18363 non-null  float64\n",
      " 22  V002_DOMICILIO02     18206 non-null  float64\n",
      " 23  V001_DOMICILIO01     18363 non-null  float64\n",
      " 24  V002_DOMICILIO01     18363 non-null  float64\n",
      " 25  V001_PESSOA01        18363 non-null  float64\n",
      " 26  V086_PESSOA02        18206 non-null  float64\n",
      " 27  V001_PESSOA03        18363 non-null  float64\n",
      " 28  V002_PESSOA03        18206 non-null  float64\n",
      " 29  V003_PESSOA03        18206 non-null  float64\n",
      " 30  V004_PESSOA03        18206 non-null  float64\n",
      " 31  V005_PESSOA03        18206 non-null  float64\n",
      " 32  V006_PESSOA03        18206 non-null  float64\n",
      " 33  V001_PESSOA12        18363 non-null  float64\n",
      " 34  V001_PESSOA11        18363 non-null  float64\n",
      " 35  V001_RESPONSAVEL01   18363 non-null  float64\n",
      " 36  V001_RESPONSAVEL02   18363 non-null  float64\n",
      "dtypes: float64(36), object(1)\n",
      "memory usage: 5.2+ MB\n"
     ]
    }
   ],
   "source": [
    "# transform int64 columns to float64\n",
    "\n",
    "int64_cols = df_census.select_dtypes(include=['int64']).columns\n",
    "df_census[int64_cols] = df_census[int64_cols].astype('float64')\n",
    "df_census.info()"
   ]
  },
  {
   "cell_type": "code",
   "execution_count": 15,
   "metadata": {},
   "outputs": [
    {
     "name": "stdout",
     "output_type": "stream",
     "text": [
      "Original Shape: (18363, 37)\n",
      "Number of missing values: 2635\n",
      "Cleaned Shape: (18182, 37)\n"
     ]
    }
   ],
   "source": [
    "df_census = clean_data(df_census)"
   ]
  },
  {
   "cell_type": "code",
   "execution_count": 16,
   "metadata": {},
   "outputs": [
    {
     "data": {
      "text/plain": [
       "(Index(['ID', 'CD_GEOCODI', 'TIPO', 'CD_GEOCODS', 'NM_SUBDIST', 'CD_GEOCODD',\n",
       "        'NM_DISTRIT', 'CD_GEOCODM', 'NM_MUNICIP', 'NM_MICRO', 'NM_MESO',\n",
       "        'CD_GEOCODB', 'NM_BAIRRO', 'ID1', 'geometry'],\n",
       "       dtype='object'),\n",
       " (68296, 15))"
      ]
     },
     "execution_count": 16,
     "metadata": {},
     "output_type": "execute_result"
    }
   ],
   "source": [
    "gdf_census = gpd.read_file('../CENSO-2010/sp_setores_censitarios.zip')\n",
    "gdf_census.columns, gdf_census.shape"
   ]
  },
  {
   "cell_type": "code",
   "execution_count": 17,
   "metadata": {},
   "outputs": [
    {
     "data": {
      "text/plain": [
       "<Geographic 2D CRS: EPSG:4674>\n",
       "Name: SIRGAS 2000\n",
       "Axis Info [ellipsoidal]:\n",
       "- Lat[north]: Geodetic latitude (degree)\n",
       "- Lon[east]: Geodetic longitude (degree)\n",
       "Area of Use:\n",
       "- name: Latin America - Central America and South America - onshore and offshore. Brazil - onshore and offshore.\n",
       "- bounds: (-122.19, -59.87, -25.28, 32.72)\n",
       "Datum: Sistema de Referencia Geocentrico para las AmericaS 2000\n",
       "- Ellipsoid: GRS 1980\n",
       "- Prime Meridian: Greenwich"
      ]
     },
     "execution_count": 17,
     "metadata": {},
     "output_type": "execute_result"
    }
   ],
   "source": [
    "gdf_census.crs"
   ]
  },
  {
   "cell_type": "code",
   "execution_count": 18,
   "metadata": {},
   "outputs": [
    {
     "data": {
      "text/plain": [
       "(18953, 15)"
      ]
     },
     "execution_count": 18,
     "metadata": {},
     "output_type": "execute_result"
    }
   ],
   "source": [
    "# filter gdf_census to only include census tracts in the city of São Paulo\n",
    "\n",
    "gdf_census = gdf_census[gdf_census['NM_MUNICIP'] == 'SÃO PAULO']\n",
    "gdf_census.shape"
   ]
  },
  {
   "cell_type": "code",
   "execution_count": 19,
   "metadata": {},
   "outputs": [
    {
     "name": "stdout",
     "output_type": "stream",
     "text": [
      "Original Shape: (18953, 15)\n",
      "Number of missing values: 56859\n",
      "Cleaned Shape: (18953, 12)\n"
     ]
    }
   ],
   "source": [
    "gdf_census = clean_data(gdf_census)"
   ]
  },
  {
   "cell_type": "code",
   "execution_count": 20,
   "metadata": {},
   "outputs": [
    {
     "data": {
      "text/plain": [
       "<Projected CRS: EPSG:22523>\n",
       "Name: Corrego Alegre 1970-72 / UTM zone 23S\n",
       "Axis Info [cartesian]:\n",
       "- E[east]: Easting (metre)\n",
       "- N[north]: Northing (metre)\n",
       "Area of Use:\n",
       "- name: Brazil - onshore between 48°W and 42°W and south of 15°S.\n",
       "- bounds: (-48.0, -25.29, -42.0, -15.0)\n",
       "Coordinate Operation:\n",
       "- name: UTM zone 23S\n",
       "- method: Transverse Mercator\n",
       "Datum: Corrego Alegre 1970-72\n",
       "- Ellipsoid: International 1924\n",
       "- Prime Meridian: Greenwich"
      ]
     },
     "execution_count": 20,
     "metadata": {},
     "output_type": "execute_result"
    }
   ],
   "source": [
    "gdf_census = gdf_census.to_crs(epsg=22523)\n",
    "gdf_census.crs"
   ]
  },
  {
   "cell_type": "code",
   "execution_count": 21,
   "metadata": {},
   "outputs": [
    {
     "name": "stdout",
     "output_type": "stream",
     "text": [
      "<class 'geopandas.geodataframe.GeoDataFrame'>\n",
      "Index: 18953 entries, 42322 to 62384\n",
      "Data columns (total 10 columns):\n",
      " #   Column      Non-Null Count  Dtype   \n",
      "---  ------      --------------  -----   \n",
      " 0   CD_GEOCODI  18953 non-null  object  \n",
      " 1   TIPO        18953 non-null  object  \n",
      " 2   CD_GEOCODS  18953 non-null  object  \n",
      " 3   CD_GEOCODD  18953 non-null  object  \n",
      " 4   NM_DISTRIT  18953 non-null  object  \n",
      " 5   CD_GEOCODM  18953 non-null  object  \n",
      " 6   NM_MUNICIP  18953 non-null  object  \n",
      " 7   NM_MICRO    18953 non-null  object  \n",
      " 8   NM_MESO     18953 non-null  object  \n",
      " 9   geometry    18953 non-null  geometry\n",
      "dtypes: geometry(1), object(9)\n",
      "memory usage: 1.6+ MB\n"
     ]
    }
   ],
   "source": [
    "gdf_census = gdf_census.drop(columns=['ID', 'ID1'])\n",
    "gdf_census.info()"
   ]
  },
  {
   "cell_type": "code",
   "execution_count": 22,
   "metadata": {},
   "outputs": [
    {
     "data": {
      "text/plain": [
       "(Index(['CD_GEOCODI', 'TIPO', 'CD_GEOCODS', 'CD_GEOCODD', 'NM_DISTRIT',\n",
       "        'CD_GEOCODM', 'NM_MUNICIP', 'NM_MICRO', 'NM_MESO', 'geometry',\n",
       "        'V001_ENTORNO01', 'V002_ENTORNO01', 'V003_ENTORNO01', 'V004_ENTORNO01',\n",
       "        'V001_DOMICILIORENDA', 'V002_DOMICILIORENDA', 'V003_DOMICILIORENDA',\n",
       "        'V004_DOMICILIORENDA', 'V001_BASICO', 'V002_BASICO', 'V003_BASICO',\n",
       "        'V004_BASICO', 'V005_BASICO', 'V006_BASICO', 'V007_BASICO',\n",
       "        'V008_BASICO', 'V009_BASICO', 'V010_BASICO', 'V011_BASICO',\n",
       "        'V012_BASICO', 'V001_DOMICILIO02', 'V002_DOMICILIO02',\n",
       "        'V001_DOMICILIO01', 'V002_DOMICILIO01', 'V001_PESSOA01',\n",
       "        'V086_PESSOA02', 'V001_PESSOA03', 'V002_PESSOA03', 'V003_PESSOA03',\n",
       "        'V004_PESSOA03', 'V005_PESSOA03', 'V006_PESSOA03', 'V001_PESSOA12',\n",
       "        'V001_PESSOA11', 'V001_RESPONSAVEL01', 'V001_RESPONSAVEL02'],\n",
       "       dtype='object'),\n",
       " (18182, 46))"
      ]
     },
     "execution_count": 22,
     "metadata": {},
     "output_type": "execute_result"
    }
   ],
   "source": [
    "# merge df_census data into gdf_census, keep only tracts with data (inner join)\n",
    "\n",
    "gdf_census = gdf_census.merge(df_census, left_on='CD_GEOCODI', right_on='CD_GEOCODI', how='inner')\n",
    "gdf_census.columns, gdf_census.shape"
   ]
  },
  {
   "cell_type": "code",
   "execution_count": 23,
   "metadata": {},
   "outputs": [
    {
     "data": {
      "text/plain": [
       "np.int64(0)"
      ]
     },
     "execution_count": 23,
     "metadata": {},
     "output_type": "execute_result"
    }
   ],
   "source": [
    "# double checking for missing values\n",
    "\n",
    "gdf_census.isna().sum().sum()"
   ]
  },
  {
   "cell_type": "markdown",
   "metadata": {},
   "source": [
    "#### Metro-SP OD 2017"
   ]
  },
  {
   "cell_type": "code",
   "execution_count": 24,
   "metadata": {},
   "outputs": [
    {
     "data": {
      "text/plain": [
       "(Index(['zona', 'muni_dom', 'co_dom_x', 'co_dom_y', 'id_dom', 'f_dom', 'fe_dom',\n",
       "        'dom', 'cd_entre', 'data',\n",
       "        ...\n",
       "        'modoprin', 'tipvg', 'pag_viag', 'tp_esauto', 'vl_est', 'pe_bici',\n",
       "        'via_bici', 'tp_esbici', 'distancia', 'id_ordem'],\n",
       "       dtype='object', length=128),\n",
       " (183092, 128))"
      ]
     },
     "execution_count": 24,
     "metadata": {},
     "output_type": "execute_result"
    }
   ],
   "source": [
    "df_od = pd.read_spss('../OD-2017/od_dados/OD_2017_v1.sav')\n",
    "df_od.columns, df_od.shape"
   ]
  },
  {
   "cell_type": "code",
   "execution_count": 25,
   "metadata": {},
   "outputs": [],
   "source": [
    "# filter only relevant features\n",
    "\n",
    "cols_to_keep = [\n",
    "    'idade',\n",
    "    'sexo',\n",
    "    'estuda',\n",
    "    'grau_ins',\n",
    "    'cd_ativi',\n",
    "    'co_ren_i',\n",
    "    #'vl_ren_i',\n",
    "    'motivo_o',\n",
    "    'motivo_d',\n",
    "    #'co_d_x',\n",
    "    #'co_d_y',\n",
    "    #'zona_o',\n",
    "    'zona_d',\n",
    "]\n",
    "\n",
    "df_od = df_od[cols_to_keep]"
   ]
  },
  {
   "cell_type": "code",
   "execution_count": 26,
   "metadata": {},
   "outputs": [
    {
     "data": {
      "text/plain": [
       "(112265, 9)"
      ]
     },
     "execution_count": 26,
     "metadata": {},
     "output_type": "execute_result"
    }
   ],
   "source": [
    "# filter only trips to the city of São Paulo\n",
    "\n",
    "df_od = df_od[df_od['zona_d'].isin(sp_zones)]\n",
    "df_od.shape"
   ]
  },
  {
   "cell_type": "code",
   "execution_count": 27,
   "metadata": {},
   "outputs": [
    {
     "data": {
      "text/plain": [
       "<Axes: >"
      ]
     },
     "execution_count": 27,
     "metadata": {},
     "output_type": "execute_result"
    },
    {
     "data": {
      "image/png": "[encoded data removed]",
      "text/plain": [
       "<Figure size 640x480 with 1 Axes>"
      ]
     },
     "metadata": {},
     "output_type": "display_data"
    }
   ],
   "source": [
    "sns.heatmap(df_od.isna(), cbar=False)"
   ]
  },
  {
   "cell_type": "code",
   "execution_count": 28,
   "metadata": {},
   "outputs": [
    {
     "name": "stdout",
     "output_type": "stream",
     "text": [
      "Original Shape: (112265, 9)\n",
      "Number of missing values: 0\n"
     ]
    }
   ],
   "source": [
    "df_od = clean_data(df_od)"
   ]
  },
  {
   "cell_type": "markdown",
   "metadata": {},
   "source": [
    "#### Crime Data"
   ]
  },
  {
   "cell_type": "code",
   "execution_count": 29,
   "metadata": {},
   "outputs": [
    {
     "data": {
      "text/plain": [
       "(Index(['LATITUDE', 'LONGITUDE'], dtype='object'), (811092, 2))"
      ]
     },
     "execution_count": 29,
     "metadata": {},
     "output_type": "execute_result"
    }
   ],
   "source": [
    "df_crime = pd.read_csv(\"../GENERATED-DATA/crime_2017-2018_clean.csv\")\n",
    "df_crime.columns, df_crime.shape"
   ]
  },
  {
   "cell_type": "code",
   "execution_count": 30,
   "metadata": {},
   "outputs": [
    {
     "data": {
      "text/plain": [
       "(Index(['geometry'], dtype='object'), (811092, 1))"
      ]
     },
     "execution_count": 30,
     "metadata": {},
     "output_type": "execute_result"
    }
   ],
   "source": [
    "pt_geoms = gpd.points_from_xy(\n",
    "    x=df_crime[\"LONGITUDE\"],\n",
    "    y=df_crime[\"LATITUDE\"],\n",
    "    crs=\"EPSG:4674\",\n",
    ")\n",
    "\n",
    "gdf_crime = gpd.GeoDataFrame(geometry=pt_geoms)\n",
    "gdf_crime.columns, gdf_crime.shape"
   ]
  },
  {
   "cell_type": "code",
   "execution_count": 31,
   "metadata": {},
   "outputs": [],
   "source": [
    "gdf_crime = gdf_crime.to_crs(epsg=22523)"
   ]
  },
  {
   "cell_type": "markdown",
   "metadata": {},
   "source": [
    "### Aggregate Data"
   ]
  },
  {
   "cell_type": "markdown",
   "metadata": {},
   "source": [
    "#### Census IBGE 2010"
   ]
  },
  {
   "cell_type": "markdown",
   "metadata": {},
   "source": [
    "##### Define aggregation metrics"
   ]
  },
  {
   "cell_type": "code",
   "execution_count": 32,
   "metadata": {},
   "outputs": [
    {
     "data": {
      "text/plain": [
       "Index(['CD_GEOCODI', 'TIPO', 'CD_GEOCODS', 'CD_GEOCODD', 'NM_DISTRIT',\n",
       "       'CD_GEOCODM', 'NM_MUNICIP', 'NM_MICRO', 'NM_MESO', 'geometry',\n",
       "       'V001_ENTORNO01', 'V002_ENTORNO01', 'V003_ENTORNO01', 'V004_ENTORNO01',\n",
       "       'V001_DOMICILIORENDA', 'V002_DOMICILIORENDA', 'V003_DOMICILIORENDA',\n",
       "       'V004_DOMICILIORENDA', 'V001_BASICO', 'V002_BASICO', 'V003_BASICO',\n",
       "       'V004_BASICO', 'V005_BASICO', 'V006_BASICO', 'V007_BASICO',\n",
       "       'V008_BASICO', 'V009_BASICO', 'V010_BASICO', 'V011_BASICO',\n",
       "       'V012_BASICO', 'V001_DOMICILIO02', 'V002_DOMICILIO02',\n",
       "       'V001_DOMICILIO01', 'V002_DOMICILIO01', 'V001_PESSOA01',\n",
       "       'V086_PESSOA02', 'V001_PESSOA03', 'V002_PESSOA03', 'V003_PESSOA03',\n",
       "       'V004_PESSOA03', 'V005_PESSOA03', 'V006_PESSOA03', 'V001_PESSOA12',\n",
       "       'V001_PESSOA11', 'V001_RESPONSAVEL01', 'V001_RESPONSAVEL02'],\n",
       "      dtype='object')"
      ]
     },
     "execution_count": 32,
     "metadata": {},
     "output_type": "execute_result"
    }
   ],
   "source": [
    "gdf_census.columns"
   ]
  },
  {
   "cell_type": "code",
   "execution_count": 33,
   "metadata": {},
   "outputs": [],
   "source": [
    "cols_to_sum = [\n",
    "    'V001_ENTORNO01', 'V002_ENTORNO01', 'V003_ENTORNO01', 'V004_ENTORNO01', # n domicílios permanentes\n",
    "    'V001_DOMICILIORENDA', # n domicilios improvisados\n",
    "    'V001_BASICO', 'V002_BASICO', # n domicilios, moradores em domicílios permanentes\n",
    "    'V001_DOMICILIO02', 'V002_DOMICILIO02', # n domicilios coletivos\n",
    "    'V001_DOMICILIO01', 'V002_DOMICILIO01',\n",
    "    'V001_PESSOA01', # n pessoas alfabetizadass\n",
    "    'V086_PESSOA02', # n mulheres alfabetizadas\n",
    "    'V001_PESSOA03', 'V002_PESSOA03', 'V003_PESSOA03',\n",
    "    'V004_PESSOA03', 'V005_PESSOA03', 'V006_PESSOA03', # n pessoas residentes (diferentes cores)\n",
    "    'V001_PESSOA12', # n mulheres residentes\n",
    "    'V001_PESSOA11', # n homens residentes\n",
    "    'V001_RESPONSAVEL01', # n pessoas responsaveis, sexo feminino\n",
    "    'V001_RESPONSAVEL02', # n pessoas responsaveis\n",
    "]\n",
    "\n",
    "cols_to_average = [\n",
    "    'V002_DOMICILIORENDA', 'V003_DOMICILIORENDA', 'V004_DOMICILIORENDA',  # valores de renda media com algumas variações de tipo de domicílio\n",
    "    'V003_BASICO', # n medio de pessoas por domicilio\n",
    "    'V005_BASICO', # valor medio de renda de todos\n",
    "    'V007_BASICO', # valor medio de renda de quem tem renda\n",
    "    'V009_BASICO', # valor medio de renda de todos acima de 10 anos\n",
    "    'V011_BASICO', # valor medio de renda de todos acima de 10 anos, com rendimento\n",
    "]"
   ]
  },
  {
   "cell_type": "markdown",
   "metadata": {},
   "source": [
    "##### Aggregate"
   ]
  },
  {
   "cell_type": "code",
   "execution_count": 34,
   "metadata": {},
   "outputs": [
    {
     "data": {
      "text/plain": [
       "(342, 39)"
      ]
     },
     "execution_count": 34,
     "metadata": {},
     "output_type": "execute_result"
    }
   ],
   "source": [
    "gdf = aggregate_gdf_data(\n",
    "    gdf_zones,\n",
    "    gdf_census,\n",
    "    'NumeroZona',\n",
    "    'intersects',\n",
    "    cols_to_sum,\n",
    "    cols_to_average,\n",
    ")\n",
    "\n",
    "gdf.shape"
   ]
  },
  {
   "cell_type": "code",
   "execution_count": 35,
   "metadata": {},
   "outputs": [
    {
     "data": {
      "text/plain": [
       "(0, 39)"
      ]
     },
     "execution_count": 35,
     "metadata": {},
     "output_type": "execute_result"
    }
   ],
   "source": [
    "gdf[gdf.isna().any(axis=1)].shape # rows with missing values"
   ]
  },
  {
   "cell_type": "code",
   "execution_count": 36,
   "metadata": {},
   "outputs": [
    {
     "data": {
      "text/plain": [
       "<Axes: >"
      ]
     },
     "execution_count": 36,
     "metadata": {},
     "output_type": "execute_result"
    },
    {
     "data": {
      "image/png": "[encoded data removed]",
      "text/plain": [
       "<Figure size 640x480 with 1 Axes>"
      ]
     },
     "metadata": {},
     "output_type": "display_data"
    }
   ],
   "source": [
    "sns.heatmap(gdf.isna(), cbar=False)"
   ]
  },
  {
   "cell_type": "code",
   "execution_count": 37,
   "metadata": {},
   "outputs": [
    {
     "data": {
      "text/plain": [
       "Index(['NumeroZona', 'NomeZona', 'NumeroMuni', 'NomeMunici', 'NumDistrit',\n",
       "       'NomeDistri', 'Area_ha_2', 'geometry', 'V001_ENTORNO01',\n",
       "       'V002_ENTORNO01', 'V003_ENTORNO01', 'V004_ENTORNO01',\n",
       "       'V001_DOMICILIORENDA', 'V001_BASICO', 'V002_BASICO', 'V001_DOMICILIO02',\n",
       "       'V002_DOMICILIO02', 'V001_DOMICILIO01', 'V002_DOMICILIO01',\n",
       "       'V001_PESSOA01', 'V086_PESSOA02', 'V001_PESSOA03', 'V002_PESSOA03',\n",
       "       'V003_PESSOA03', 'V004_PESSOA03', 'V005_PESSOA03', 'V006_PESSOA03',\n",
       "       'V001_PESSOA12', 'V001_PESSOA11', 'V001_RESPONSAVEL01',\n",
       "       'V001_RESPONSAVEL02', 'V002_DOMICILIORENDA', 'V003_DOMICILIORENDA',\n",
       "       'V004_DOMICILIORENDA', 'V003_BASICO', 'V005_BASICO', 'V007_BASICO',\n",
       "       'V009_BASICO', 'V011_BASICO'],\n",
       "      dtype='object')"
      ]
     },
     "execution_count": 37,
     "metadata": {},
     "output_type": "execute_result"
    }
   ],
   "source": [
    "gdf.columns"
   ]
  },
  {
   "cell_type": "markdown",
   "metadata": {},
   "source": [
    "#### Metro-SP OD 2017"
   ]
  },
  {
   "cell_type": "markdown",
   "metadata": {},
   "source": [
    "##### Prepare Categorical Features for Aggregation"
   ]
  },
  {
   "cell_type": "code",
   "execution_count": 38,
   "metadata": {},
   "outputs": [
    {
     "name": "stdout",
     "output_type": "stream",
     "text": [
      "<class 'pandas.core.frame.DataFrame'>\n",
      "Index: 112265 entries, 0 to 183071\n",
      "Data columns (total 9 columns):\n",
      " #   Column    Non-Null Count   Dtype   \n",
      "---  ------    --------------   -----   \n",
      " 0   idade     112265 non-null  float64 \n",
      " 1   sexo      112265 non-null  category\n",
      " 2   estuda    112265 non-null  category\n",
      " 3   grau_ins  112265 non-null  category\n",
      " 4   cd_ativi  112265 non-null  category\n",
      " 5   co_ren_i  112265 non-null  category\n",
      " 6   motivo_o  112265 non-null  category\n",
      " 7   motivo_d  112265 non-null  category\n",
      " 8   zona_d    112265 non-null  float64 \n",
      "dtypes: category(7), float64(2)\n",
      "memory usage: 3.3 MB\n"
     ]
    }
   ],
   "source": [
    "df_od.info()"
   ]
  },
  {
   "cell_type": "code",
   "execution_count": 39,
   "metadata": {},
   "outputs": [
    {
     "name": "stdout",
     "output_type": "stream",
     "text": [
      "sexo: ['Feminino', 'Masculino']\n",
      "estuda: ['1º grau/ Fundamental', '2º grau/ Médio', 'Creche/ Pré-escola', 'Não', 'Outros', 'Superior/ Universitário']\n",
      "grau_ins: ['Fundamental I Completo/ Fundamental II Incompleto', 'Fundamental II Completo/ Médio Incompleto', 'Médio Completo/ Superior Incompleto', 'Não Alfabetizado/ Fundamental I Incompleto', 'Superior Completo']\n",
      "cd_ativi: ['Aposentado/ Pensionista', 'Dona de Casa', 'Em Licença Médica', 'Estudante', 'Faz Bico', 'Nunca Trabalhou', 'Sem Trabalho', 'Tem Trabalho Regular']\n",
      "co_ren_i: ['Não respondeu', 'Não tem renda', 'Tem renda']\n",
      "motivo_o: ['Assuntos Pessoais', 'Compras', 'Escola/Educação', 'Médico/Dentista/Saúde', 'Procurar Emprego', 'Recreação/Visitas/Lazer', 'Refeição', 'Residência', 'Trabalho Comércio', 'Trabalho Indústria', 'Trabalho Serviços']\n",
      "motivo_d: ['Assuntos Pessoais', 'Compras', 'Escola/Educação', 'Médico/Dentista/Saúde', 'Procurar Emprego', 'Recreação/Visitas/Lazer', 'Refeição', 'Residência', 'Trabalho Comércio', 'Trabalho Indústria', 'Trabalho Serviços']\n"
     ]
    }
   ],
   "source": [
    "cat_cols = df_od.select_dtypes(include=['category']).columns.tolist()\n",
    "for col in cat_cols:\n",
    "    print(f'{col}: {df_od[col].cat.categories.tolist()}')"
   ]
  },
  {
   "cell_type": "code",
   "execution_count": 40,
   "metadata": {},
   "outputs": [],
   "source": [
    "# grau_ins should be ordered\n",
    "\n",
    "df_od['grau_ins'] = df_od['grau_ins'].cat.reorder_categories(\n",
    "    [\n",
    "        'Não Alfabetizado/ Fundamental I Incompleto',\n",
    "        'Fundamental I Completo/ Fundamental II Incompleto',\n",
    "        'Fundamental II Completo/ Médio Incompleto',\n",
    "        'Médio Completo/ Superior Incompleto',\n",
    "        'Superior Completo',\n",
    "    ],\n",
    "    ordered=True,\n",
    ")"
   ]
  },
  {
   "cell_type": "code",
   "execution_count": 41,
   "metadata": {},
   "outputs": [
    {
     "data": {
      "text/plain": [
       "Index(['idade', 'grau_ins', 'zona_d', 'sexo_Masculino',\n",
       "       'estuda_2º grau/ Médio', 'estuda_Creche/ Pré-escola', 'estuda_Não',\n",
       "       'estuda_Outros', 'estuda_Superior/ Universitário',\n",
       "       'cd_ativi_Dona de Casa', 'cd_ativi_Em Licença Médica',\n",
       "       'cd_ativi_Estudante', 'cd_ativi_Faz Bico', 'cd_ativi_Nunca Trabalhou',\n",
       "       'cd_ativi_Sem Trabalho', 'cd_ativi_Tem Trabalho Regular',\n",
       "       'co_ren_i_Não tem renda', 'co_ren_i_Tem renda', 'motivo_o_Compras',\n",
       "       'motivo_o_Escola/Educação', 'motivo_o_Médico/Dentista/Saúde',\n",
       "       'motivo_o_Procurar Emprego', 'motivo_o_Recreação/Visitas/Lazer',\n",
       "       'motivo_o_Refeição', 'motivo_o_Residência',\n",
       "       'motivo_o_Trabalho Comércio', 'motivo_o_Trabalho Indústria',\n",
       "       'motivo_o_Trabalho Serviços', 'motivo_d_Compras',\n",
       "       'motivo_d_Escola/Educação', 'motivo_d_Médico/Dentista/Saúde',\n",
       "       'motivo_d_Procurar Emprego', 'motivo_d_Recreação/Visitas/Lazer',\n",
       "       'motivo_d_Refeição', 'motivo_d_Residência',\n",
       "       'motivo_d_Trabalho Comércio', 'motivo_d_Trabalho Indústria',\n",
       "       'motivo_d_Trabalho Serviços'],\n",
       "      dtype='object')"
      ]
     },
     "execution_count": 41,
     "metadata": {},
     "output_type": "execute_result"
    }
   ],
   "source": [
    "df_od = encode_categoricals(df_od)\n",
    "df_od.columns"
   ]
  },
  {
   "cell_type": "markdown",
   "metadata": {},
   "source": [
    "##### Aggregate"
   ]
  },
  {
   "cell_type": "code",
   "execution_count": 42,
   "metadata": {},
   "outputs": [
    {
     "data": {
      "text/plain": [
       "342"
      ]
     },
     "execution_count": 42,
     "metadata": {},
     "output_type": "execute_result"
    }
   ],
   "source": [
    "len(sp_zones)"
   ]
  },
  {
   "cell_type": "code",
   "execution_count": 43,
   "metadata": {},
   "outputs": [
    {
     "data": {
      "text/plain": [
       "Index(['idade', 'grau_ins', 'zona_d', 'sexo_Masculino',\n",
       "       'estuda_2º grau/ Médio', 'estuda_Creche/ Pré-escola', 'estuda_Não',\n",
       "       'estuda_Outros', 'estuda_Superior/ Universitário',\n",
       "       'cd_ativi_Dona de Casa', 'cd_ativi_Em Licença Médica',\n",
       "       'cd_ativi_Estudante', 'cd_ativi_Faz Bico', 'cd_ativi_Nunca Trabalhou',\n",
       "       'cd_ativi_Sem Trabalho', 'cd_ativi_Tem Trabalho Regular',\n",
       "       'co_ren_i_Não tem renda', 'co_ren_i_Tem renda', 'motivo_o_Compras',\n",
       "       'motivo_o_Escola/Educação', 'motivo_o_Médico/Dentista/Saúde',\n",
       "       'motivo_o_Procurar Emprego', 'motivo_o_Recreação/Visitas/Lazer',\n",
       "       'motivo_o_Refeição', 'motivo_o_Residência',\n",
       "       'motivo_o_Trabalho Comércio', 'motivo_o_Trabalho Indústria',\n",
       "       'motivo_o_Trabalho Serviços', 'motivo_d_Compras',\n",
       "       'motivo_d_Escola/Educação', 'motivo_d_Médico/Dentista/Saúde',\n",
       "       'motivo_d_Procurar Emprego', 'motivo_d_Recreação/Visitas/Lazer',\n",
       "       'motivo_d_Refeição', 'motivo_d_Residência',\n",
       "       'motivo_d_Trabalho Comércio', 'motivo_d_Trabalho Indústria',\n",
       "       'motivo_d_Trabalho Serviços'],\n",
       "      dtype='object')"
      ]
     },
     "execution_count": 43,
     "metadata": {},
     "output_type": "execute_result"
    }
   ],
   "source": [
    "df_od.columns"
   ]
  },
  {
   "cell_type": "code",
   "execution_count": 44,
   "metadata": {},
   "outputs": [],
   "source": [
    "# group by 'zona_d' and take the mean of all columns\n",
    "\n",
    "df_od_agg = df_od.groupby('zona_d').mean()\n",
    "df_od_agg['viagens'] = df_od.groupby('zona_d').size()"
   ]
  },
  {
   "cell_type": "code",
   "execution_count": 45,
   "metadata": {},
   "outputs": [
    {
     "name": "stdout",
     "output_type": "stream",
     "text": [
      "Original Shape: (338, 38)\n",
      "Number of missing values: 0\n"
     ]
    }
   ],
   "source": [
    "df_od_agg = clean_data(df_od_agg)"
   ]
  },
  {
   "cell_type": "code",
   "execution_count": 46,
   "metadata": {},
   "outputs": [
    {
     "data": {
      "text/plain": [
       "count     338.000000\n",
       "mean      332.144970\n",
       "std       197.127848\n",
       "min         1.000000\n",
       "25%       212.000000\n",
       "50%       273.500000\n",
       "75%       387.750000\n",
       "max      1287.000000\n",
       "Name: viagens, dtype: float64"
      ]
     },
     "execution_count": 46,
     "metadata": {},
     "output_type": "execute_result"
    }
   ],
   "source": [
    "df_od_agg['viagens'].describe()"
   ]
  },
  {
   "cell_type": "markdown",
   "metadata": {},
   "source": [
    "##### Merge With The GeoDataFrame"
   ]
  },
  {
   "cell_type": "code",
   "execution_count": 47,
   "metadata": {},
   "outputs": [
    {
     "data": {
      "text/plain": [
       "(342, 77)"
      ]
     },
     "execution_count": 47,
     "metadata": {},
     "output_type": "execute_result"
    }
   ],
   "source": [
    "gdf = gdf.merge(df_od_agg, left_on='NumeroZona', right_index=True, how='left')\n",
    "gdf.shape"
   ]
  },
  {
   "cell_type": "code",
   "execution_count": 48,
   "metadata": {},
   "outputs": [
    {
     "data": {
      "text/plain": [
       "<Axes: >"
      ]
     },
     "execution_count": 48,
     "metadata": {},
     "output_type": "execute_result"
    },
    {
     "data": {
      "image/png": "[encoded data removed]",
      "text/plain": [
       "<Figure size 640x480 with 1 Axes>"
      ]
     },
     "metadata": {},
     "output_type": "display_data"
    }
   ],
   "source": [
    "sns.heatmap(gdf.isna(), cbar=False)"
   ]
  },
  {
   "cell_type": "code",
   "execution_count": 49,
   "metadata": {},
   "outputs": [
    {
     "data": {
      "text/plain": [
       "np.int64(4)"
      ]
     },
     "execution_count": 49,
     "metadata": {},
     "output_type": "execute_result"
    }
   ],
   "source": [
    "gdf.viagens.isna().sum() # zones with no trips"
   ]
  },
  {
   "cell_type": "markdown",
   "metadata": {},
   "source": [
    "#### Crime SP"
   ]
  },
  {
   "cell_type": "code",
   "execution_count": 50,
   "metadata": {},
   "outputs": [
    {
     "data": {
      "text/plain": [
       "(811092, 1)"
      ]
     },
     "execution_count": 50,
     "metadata": {},
     "output_type": "execute_result"
    }
   ],
   "source": [
    "gdf_crime.shape"
   ]
  },
  {
   "cell_type": "code",
   "execution_count": 51,
   "metadata": {},
   "outputs": [],
   "source": [
    "gdf_crime = gdf_zones.sjoin(gdf_crime, how='inner', predicate='contains') # inner join so only zones with crimes are kept"
   ]
  },
  {
   "cell_type": "code",
   "execution_count": 52,
   "metadata": {},
   "outputs": [
    {
     "data": {
      "text/plain": [
       "NumeroZona     0\n",
       "NomeZona       0\n",
       "NumeroMuni     0\n",
       "NomeMunici     0\n",
       "NumDistrit     0\n",
       "NomeDistri     0\n",
       "Area_ha_2      0\n",
       "geometry       0\n",
       "index_right    0\n",
       "dtype: int64"
      ]
     },
     "execution_count": 52,
     "metadata": {},
     "output_type": "execute_result"
    }
   ],
   "source": [
    "gdf_crime.isna().sum()"
   ]
  },
  {
   "cell_type": "code",
   "execution_count": 53,
   "metadata": {},
   "outputs": [],
   "source": [
    "df_crime_agg = gdf_crime.groupby('NumeroZona').size()\n",
    "df_crime_agg = df_crime_agg.to_frame(name='crimes')"
   ]
  },
  {
   "cell_type": "code",
   "execution_count": 54,
   "metadata": {},
   "outputs": [
    {
     "data": {
      "text/html": [
       "<div>\n",
       "<style scoped>\n",
       "    .dataframe tbody tr th:only-of-type {\n",
       "        vertical-align: middle;\n",
       "    }\n",
       "\n",
       "    .dataframe tbody tr th {\n",
       "        vertical-align: top;\n",
       "    }\n",
       "\n",
       "    .dataframe thead th {\n",
       "        text-align: right;\n",
       "    }\n",
       "</style>\n",
       "<table border=\"1\" class=\"dataframe\">\n",
       "  <thead>\n",
       "    <tr style=\"text-align: right;\">\n",
       "      <th></th>\n",
       "      <th>crimes</th>\n",
       "    </tr>\n",
       "    <tr>\n",
       "      <th>NumeroZona</th>\n",
       "      <th></th>\n",
       "    </tr>\n",
       "  </thead>\n",
       "  <tbody>\n",
       "    <tr>\n",
       "      <th>1</th>\n",
       "      <td>7092</td>\n",
       "    </tr>\n",
       "    <tr>\n",
       "      <th>2</th>\n",
       "      <td>5537</td>\n",
       "    </tr>\n",
       "    <tr>\n",
       "      <th>3</th>\n",
       "      <td>3718</td>\n",
       "    </tr>\n",
       "    <tr>\n",
       "      <th>4</th>\n",
       "      <td>4637</td>\n",
       "    </tr>\n",
       "    <tr>\n",
       "      <th>5</th>\n",
       "      <td>12866</td>\n",
       "    </tr>\n",
       "    <tr>\n",
       "      <th>...</th>\n",
       "      <td>...</td>\n",
       "    </tr>\n",
       "    <tr>\n",
       "      <th>338</th>\n",
       "      <td>1314</td>\n",
       "    </tr>\n",
       "    <tr>\n",
       "      <th>339</th>\n",
       "      <td>692</td>\n",
       "    </tr>\n",
       "    <tr>\n",
       "      <th>340</th>\n",
       "      <td>2690</td>\n",
       "    </tr>\n",
       "    <tr>\n",
       "      <th>341</th>\n",
       "      <td>739</td>\n",
       "    </tr>\n",
       "    <tr>\n",
       "      <th>342</th>\n",
       "      <td>1856</td>\n",
       "    </tr>\n",
       "  </tbody>\n",
       "</table>\n",
       "<p>340 rows × 1 columns</p>\n",
       "</div>"
      ],
      "text/plain": [
       "            crimes\n",
       "NumeroZona        \n",
       "1             7092\n",
       "2             5537\n",
       "3             3718\n",
       "4             4637\n",
       "5            12866\n",
       "...            ...\n",
       "338           1314\n",
       "339            692\n",
       "340           2690\n",
       "341            739\n",
       "342           1856\n",
       "\n",
       "[340 rows x 1 columns]"
      ]
     },
     "execution_count": 54,
     "metadata": {},
     "output_type": "execute_result"
    }
   ],
   "source": [
    "df_crime_agg"
   ]
  },
  {
   "cell_type": "code",
   "execution_count": 55,
   "metadata": {},
   "outputs": [],
   "source": [
    "# merge crime data into gdf\n",
    "\n",
    "gdf = gdf.merge(df_crime_agg, left_on='NumeroZona', right_index=True, how='left')"
   ]
  },
  {
   "cell_type": "code",
   "execution_count": 56,
   "metadata": {},
   "outputs": [
    {
     "data": {
      "text/plain": [
       "NumeroZona                     0\n",
       "NomeZona                       0\n",
       "NumeroMuni                     0\n",
       "NomeMunici                     0\n",
       "NumDistrit                     0\n",
       "                              ..\n",
       "motivo_d_Trabalho Comércio     4\n",
       "motivo_d_Trabalho Indústria    4\n",
       "motivo_d_Trabalho Serviços     4\n",
       "viagens                        4\n",
       "crimes                         2\n",
       "Length: 78, dtype: int64"
      ]
     },
     "execution_count": 56,
     "metadata": {},
     "output_type": "execute_result"
    }
   ],
   "source": [
    "gdf.isna().sum()"
   ]
  },
  {
   "cell_type": "code",
   "execution_count": 57,
   "metadata": {},
   "outputs": [
    {
     "data": {
      "text/plain": [
       "'4 out of 342 zones have missing values'"
      ]
     },
     "execution_count": 57,
     "metadata": {},
     "output_type": "execute_result"
    }
   ],
   "source": [
    "# rows with missing values\n",
    "\n",
    "f'{gdf[gdf.isna().any(axis=1)].shape[0]} out of {gdf.shape[0]} zones have missing values'"
   ]
  },
  {
   "cell_type": "markdown",
   "metadata": {},
   "source": [
    "### Save Final GeoDataFrame"
   ]
  },
  {
   "cell_type": "code",
   "execution_count": 58,
   "metadata": {},
   "outputs": [
    {
     "name": "stdout",
     "output_type": "stream",
     "text": [
      "<class 'geopandas.geodataframe.GeoDataFrame'>\n",
      "Index: 342 entries, 0 to 341\n",
      "Data columns (total 78 columns):\n",
      " #   Column                            Non-Null Count  Dtype   \n",
      "---  ------                            --------------  -----   \n",
      " 0   NumeroZona                        342 non-null    object  \n",
      " 1   NomeZona                          342 non-null    object  \n",
      " 2   NumeroMuni                        342 non-null    object  \n",
      " 3   NomeMunici                        342 non-null    object  \n",
      " 4   NumDistrit                        342 non-null    object  \n",
      " 5   NomeDistri                        342 non-null    object  \n",
      " 6   Area_ha_2                         342 non-null    float64 \n",
      " 7   geometry                          342 non-null    geometry\n",
      " 8   V001_ENTORNO01                    342 non-null    float64 \n",
      " 9   V002_ENTORNO01                    342 non-null    float64 \n",
      " 10  V003_ENTORNO01                    342 non-null    float64 \n",
      " 11  V004_ENTORNO01                    342 non-null    float64 \n",
      " 12  V001_DOMICILIORENDA               342 non-null    float64 \n",
      " 13  V001_BASICO                       342 non-null    float64 \n",
      " 14  V002_BASICO                       342 non-null    float64 \n",
      " 15  V001_DOMICILIO02                  342 non-null    float64 \n",
      " 16  V002_DOMICILIO02                  342 non-null    float64 \n",
      " 17  V001_DOMICILIO01                  342 non-null    float64 \n",
      " 18  V002_DOMICILIO01                  342 non-null    float64 \n",
      " 19  V001_PESSOA01                     342 non-null    float64 \n",
      " 20  V086_PESSOA02                     342 non-null    float64 \n",
      " 21  V001_PESSOA03                     342 non-null    float64 \n",
      " 22  V002_PESSOA03                     342 non-null    float64 \n",
      " 23  V003_PESSOA03                     342 non-null    float64 \n",
      " 24  V004_PESSOA03                     342 non-null    float64 \n",
      " 25  V005_PESSOA03                     342 non-null    float64 \n",
      " 26  V006_PESSOA03                     342 non-null    float64 \n",
      " 27  V001_PESSOA12                     342 non-null    float64 \n",
      " 28  V001_PESSOA11                     342 non-null    float64 \n",
      " 29  V001_RESPONSAVEL01                342 non-null    float64 \n",
      " 30  V001_RESPONSAVEL02                342 non-null    float64 \n",
      " 31  V002_DOMICILIORENDA               342 non-null    float64 \n",
      " 32  V003_DOMICILIORENDA               342 non-null    float64 \n",
      " 33  V004_DOMICILIORENDA               342 non-null    float64 \n",
      " 34  V003_BASICO                       342 non-null    float64 \n",
      " 35  V005_BASICO                       342 non-null    float64 \n",
      " 36  V007_BASICO                       342 non-null    float64 \n",
      " 37  V009_BASICO                       342 non-null    float64 \n",
      " 38  V011_BASICO                       342 non-null    float64 \n",
      " 39  idade                             338 non-null    float64 \n",
      " 40  grau_ins                          338 non-null    float64 \n",
      " 41  sexo_Masculino                    338 non-null    float64 \n",
      " 42  estuda_2º grau/ Médio             338 non-null    float64 \n",
      " 43  estuda_Creche/ Pré-escola         338 non-null    float64 \n",
      " 44  estuda_Não                        338 non-null    float64 \n",
      " 45  estuda_Outros                     338 non-null    float64 \n",
      " 46  estuda_Superior/ Universitário    338 non-null    float64 \n",
      " 47  cd_ativi_Dona de Casa             338 non-null    float64 \n",
      " 48  cd_ativi_Em Licença Médica        338 non-null    float64 \n",
      " 49  cd_ativi_Estudante                338 non-null    float64 \n",
      " 50  cd_ativi_Faz Bico                 338 non-null    float64 \n",
      " 51  cd_ativi_Nunca Trabalhou          338 non-null    float64 \n",
      " 52  cd_ativi_Sem Trabalho             338 non-null    float64 \n",
      " 53  cd_ativi_Tem Trabalho Regular     338 non-null    float64 \n",
      " 54  co_ren_i_Não tem renda            338 non-null    float64 \n",
      " 55  co_ren_i_Tem renda                338 non-null    float64 \n",
      " 56  motivo_o_Compras                  338 non-null    float64 \n",
      " 57  motivo_o_Escola/Educação          338 non-null    float64 \n",
      " 58  motivo_o_Médico/Dentista/Saúde    338 non-null    float64 \n",
      " 59  motivo_o_Procurar Emprego         338 non-null    float64 \n",
      " 60  motivo_o_Recreação/Visitas/Lazer  338 non-null    float64 \n",
      " 61  motivo_o_Refeição                 338 non-null    float64 \n",
      " 62  motivo_o_Residência               338 non-null    float64 \n",
      " 63  motivo_o_Trabalho Comércio        338 non-null    float64 \n",
      " 64  motivo_o_Trabalho Indústria       338 non-null    float64 \n",
      " 65  motivo_o_Trabalho Serviços        338 non-null    float64 \n",
      " 66  motivo_d_Compras                  338 non-null    float64 \n",
      " 67  motivo_d_Escola/Educação          338 non-null    float64 \n",
      " 68  motivo_d_Médico/Dentista/Saúde    338 non-null    float64 \n",
      " 69  motivo_d_Procurar Emprego         338 non-null    float64 \n",
      " 70  motivo_d_Recreação/Visitas/Lazer  338 non-null    float64 \n",
      " 71  motivo_d_Refeição                 338 non-null    float64 \n",
      " 72  motivo_d_Residência               338 non-null    float64 \n",
      " 73  motivo_d_Trabalho Comércio        338 non-null    float64 \n",
      " 74  motivo_d_Trabalho Indústria       338 non-null    float64 \n",
      " 75  motivo_d_Trabalho Serviços        338 non-null    float64 \n",
      " 76  viagens                           338 non-null    float64 \n",
      " 77  crimes                            340 non-null    float64 \n",
      "dtypes: float64(71), geometry(1), object(6)\n",
      "memory usage: 211.1+ KB\n"
     ]
    }
   ],
   "source": [
    "gdf.info()"
   ]
  },
  {
   "cell_type": "code",
   "execution_count": 59,
   "metadata": {},
   "outputs": [],
   "source": [
    "# save the final GeoDataFrame\n",
    "\n",
    "gdf.to_file('../GENERATED-DATA/data_by_zone.geojson', driver='GeoJSON')"
   ]
  }
 ],
 "metadata": {
  "kernelspec": {
   "display_name": "base",
   "language": "python",
   "name": "python3"
  },
  "language_info": {
   "codemirror_mode": {
    "name": "ipython",
    "version": 3
   },
   "file_extension": ".py",
   "mimetype": "text/x-python",
   "name": "python",
   "nbconvert_exporter": "python",
   "pygments_lexer": "ipython3",
   "version": "3.11.10"
  }
 },
 "nbformat": 4,
 "nbformat_minor": 2
}
